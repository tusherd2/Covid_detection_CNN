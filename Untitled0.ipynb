{
  "nbformat": 4,
  "nbformat_minor": 0,
  "metadata": {
    "colab": {
      "name": "Untitled0.ipynb",
      "provenance": [],
      "collapsed_sections": [],
      "authorship_tag": "ABX9TyOfdMbYn9pP31Om69hlopsD",
      "include_colab_link": true
    },
    "kernelspec": {
      "name": "python3",
      "display_name": "Python 3"
    },
    "language_info": {
      "name": "python"
    }
  },
  "cells": [
    {
      "cell_type": "markdown",
      "metadata": {
        "id": "view-in-github",
        "colab_type": "text"
      },
      "source": [
        "<a href=\"https://colab.research.google.com/github/tusherd2/Covid_detection_CNN/blob/master/Untitled0.ipynb\" target=\"_parent\"><img src=\"https://colab.research.google.com/assets/colab-badge.svg\" alt=\"Open In Colab\"/></a>"
      ]
    },
    {
      "cell_type": "markdown",
      "metadata": {
        "id": "5SpA6j_Cmds7"
      },
      "source": [
        "Imports\n"
      ]
    },
    {
      "cell_type": "code",
      "metadata": {
        "id": "5YvRSFSDVcun"
      },
      "source": [
        "import numpy as np\n",
        "import matplotlib.pyplot as plt\n",
        "\n",
        "import keras\n",
        "from keras.layers import Dense, Conv2D, MaxPool2D, Dropout, Flatten\n",
        "from keras.models import Sequential\n",
        "from keras.preprocessing import image\n"
      ],
      "execution_count": 24,
      "outputs": []
    },
    {
      "cell_type": "markdown",
      "metadata": {
        "id": "ZIULYC6lmj2m"
      },
      "source": [
        "load data"
      ]
    },
    {
      "cell_type": "code",
      "metadata": {
        "colab": {
          "base_uri": "https://localhost:8080/"
        },
        "id": "nkBGAJGpX3pv",
        "outputId": "66b7cc8d-7b46-476f-9058-8caca7c5ef8c"
      },
      "source": [
        "train_data_gen = image.ImageDataGenerator(\n",
        "    rescale = 1/255, horizontal_flip = True, zoom_range = 0.2, shear_range = 0.2\n",
        ")\n",
        "\n",
        "train_data = train_data_gen.flow_from_directory(directory= \"/content/Covid_DataSet/Train\", target_size=(256,256), batch_size= 16,\n",
        "                                                class_mode = 'binary'                        \n",
        "                                                )"
      ],
      "execution_count": 25,
      "outputs": [
        {
          "output_type": "stream",
          "text": [
            "Found 4055 images belonging to 3 classes.\n"
          ],
          "name": "stdout"
        }
      ]
    },
    {
      "cell_type": "code",
      "metadata": {
        "colab": {
          "base_uri": "https://localhost:8080/"
        },
        "id": "HBdzNwN_c-LO",
        "outputId": "8057fb29-43f3-4157-e645-f4740305161b"
      },
      "source": [
        "train_data.class_indices\n",
        "{'COVID': 0, 'Normal': 1}"
      ],
      "execution_count": 26,
      "outputs": [
        {
          "output_type": "execute_result",
          "data": {
            "text/plain": [
              "{'COVID': 0, 'Normal': 1}"
            ]
          },
          "metadata": {},
          "execution_count": 26
        }
      ]
    },
    {
      "cell_type": "code",
      "metadata": {
        "colab": {
          "base_uri": "https://localhost:8080/"
        },
        "id": "AcPRxGHVjLFm",
        "outputId": "e18fd47e-320f-4c04-acf4-a3960bea7d35"
      },
      "source": [
        "test_data_gen = image.ImageDataGenerator(\n",
        "    rescale = 1/255\n",
        ")\n",
        "\n",
        "test_data = test_data_gen.flow_from_directory(directory= \"/content/Covid_DataSet/Test\", target_size=(256,256), batch_size= 16,\n",
        "                                                class_mode = 'binary'                        \n",
        "                                                )"
      ],
      "execution_count": 27,
      "outputs": [
        {
          "output_type": "stream",
          "text": [
            "Found 1005 images belonging to 3 classes.\n"
          ],
          "name": "stdout"
        }
      ]
    },
    {
      "cell_type": "markdown",
      "metadata": {
        "id": "mSIoHWhjmpr5"
      },
      "source": [
        "CNN model"
      ]
    },
    {
      "cell_type": "code",
      "metadata": {
        "id": "--timJEwmszp"
      },
      "source": [
        "model = Sequential()\n",
        "\n",
        "model.add(Conv2D(filters = 32, kernel_size=(3,3), activation='relu', input_shape = (256,256,3)))\n",
        "model.add(MaxPool2D())\n",
        "model.add(Dropout(rate=0.25))\n",
        "\n",
        "model.add(Conv2D(filters = 64, kernel_size=(3,3), activation='relu'))\n",
        "model.add(MaxPool2D())\n",
        "model.add(Dropout(rate=0.25))\n",
        "\n",
        "model.add(Conv2D(filters = 64, kernel_size=(3,3), activation='relu'))\n",
        "model.add(MaxPool2D())\n",
        "model.add(Dropout(rate=0.25))\n",
        "\n",
        "model.add(Conv2D(filters = 128, kernel_size=(3,3), activation='relu'))\n",
        "model.add(MaxPool2D())\n",
        "model.add(Dropout(rate=0.25))\n",
        "\n",
        "model.add(Flatten())\n",
        "model.add(Dense(units= 64, activation= 'relu'))\n",
        "model.add(Dropout(rate= 0.50))\n",
        "model.add(Dense(units= 1, activation='sigmoid'))\n",
        "\n",
        "model.compile(loss= keras.losses.binary_crossentropy, optimizer=\"adam\", metrics=['acc'])"
      ],
      "execution_count": 28,
      "outputs": []
    },
    {
      "cell_type": "code",
      "metadata": {
        "colab": {
          "base_uri": "https://localhost:8080/"
        },
        "id": "7nmv7bjUpa2h",
        "outputId": "df4e4566-8838-44ae-bea5-ab871454333a"
      },
      "source": [
        "model.summary()"
      ],
      "execution_count": 29,
      "outputs": [
        {
          "output_type": "stream",
          "text": [
            "Model: \"sequential_5\"\n",
            "_________________________________________________________________\n",
            "Layer (type)                 Output Shape              Param #   \n",
            "=================================================================\n",
            "conv2d_14 (Conv2D)           (None, 254, 254, 32)      896       \n",
            "_________________________________________________________________\n",
            "max_pooling2d_12 (MaxPooling (None, 127, 127, 32)      0         \n",
            "_________________________________________________________________\n",
            "dropout_15 (Dropout)         (None, 127, 127, 32)      0         \n",
            "_________________________________________________________________\n",
            "conv2d_15 (Conv2D)           (None, 125, 125, 64)      18496     \n",
            "_________________________________________________________________\n",
            "max_pooling2d_13 (MaxPooling (None, 62, 62, 64)        0         \n",
            "_________________________________________________________________\n",
            "dropout_16 (Dropout)         (None, 62, 62, 64)        0         \n",
            "_________________________________________________________________\n",
            "conv2d_16 (Conv2D)           (None, 60, 60, 64)        36928     \n",
            "_________________________________________________________________\n",
            "max_pooling2d_14 (MaxPooling (None, 30, 30, 64)        0         \n",
            "_________________________________________________________________\n",
            "dropout_17 (Dropout)         (None, 30, 30, 64)        0         \n",
            "_________________________________________________________________\n",
            "conv2d_17 (Conv2D)           (None, 28, 28, 128)       73856     \n",
            "_________________________________________________________________\n",
            "max_pooling2d_15 (MaxPooling (None, 14, 14, 128)       0         \n",
            "_________________________________________________________________\n",
            "dropout_18 (Dropout)         (None, 14, 14, 128)       0         \n",
            "_________________________________________________________________\n",
            "flatten_3 (Flatten)          (None, 25088)             0         \n",
            "_________________________________________________________________\n",
            "dense_6 (Dense)              (None, 64)                1605696   \n",
            "_________________________________________________________________\n",
            "dropout_19 (Dropout)         (None, 64)                0         \n",
            "_________________________________________________________________\n",
            "dense_7 (Dense)              (None, 1)                 65        \n",
            "=================================================================\n",
            "Total params: 1,735,937\n",
            "Trainable params: 1,735,937\n",
            "Non-trainable params: 0\n",
            "_________________________________________________________________\n"
          ],
          "name": "stdout"
        }
      ]
    },
    {
      "cell_type": "code",
      "metadata": {
        "colab": {
          "base_uri": "https://localhost:8080/"
        },
        "id": "HShqmRxMpvWp",
        "outputId": "5268ffbc-67e1-49eb-ab1f-25a3434e94bb"
      },
      "source": [
        "model.fit_generator(train_data, steps_per_epoch= 8, epochs= 10, validation_steps= 2, \n",
        "                    validation_data= test_data\n",
        "                    )"
      ],
      "execution_count": 30,
      "outputs": [
        {
          "output_type": "stream",
          "text": [
            "/usr/local/lib/python3.7/dist-packages/keras/engine/training.py:1972: UserWarning: `Model.fit_generator` is deprecated and will be removed in a future version. Please use `Model.fit`, which supports generators.\n",
            "  warnings.warn('`Model.fit_generator` is deprecated and '\n"
          ],
          "name": "stderr"
        },
        {
          "output_type": "stream",
          "text": [
            "Epoch 1/10\n",
            "8/8 [==============================] - 19s 2s/step - loss: -226.3011 - acc: 0.4297 - val_loss: -746.6475 - val_acc: 0.3750\n",
            "Epoch 2/10\n",
            "8/8 [==============================] - 18s 2s/step - loss: -5209.5767 - acc: 0.5859 - val_loss: -20425.7578 - val_acc: 0.5000\n",
            "Epoch 3/10\n",
            "8/8 [==============================] - 19s 2s/step - loss: -73654.5391 - acc: 0.5469 - val_loss: -209584.9062 - val_acc: 0.5312\n",
            "Epoch 4/10\n",
            "8/8 [==============================] - 19s 2s/step - loss: -678014.3750 - acc: 0.4688 - val_loss: -1534286.2500 - val_acc: 0.5000\n",
            "Epoch 5/10\n",
            "8/8 [==============================] - 18s 2s/step - loss: -4035479.2500 - acc: 0.4531 - val_loss: -5527784.0000 - val_acc: 0.6250\n",
            "Epoch 6/10\n",
            "8/8 [==============================] - 18s 2s/step - loss: -17078674.0000 - acc: 0.4609 - val_loss: -33720816.0000 - val_acc: 0.4375\n",
            "Epoch 7/10\n",
            "8/8 [==============================] - 18s 2s/step - loss: -57667772.0000 - acc: 0.4844 - val_loss: -75886000.0000 - val_acc: 0.6250\n",
            "Epoch 8/10\n",
            "8/8 [==============================] - 18s 2s/step - loss: -153252016.0000 - acc: 0.5625 - val_loss: -307958400.0000 - val_acc: 0.4688\n",
            "Epoch 9/10\n",
            "8/8 [==============================] - 18s 2s/step - loss: -556242048.0000 - acc: 0.4375 - val_loss: -629985536.0000 - val_acc: 0.5938\n",
            "Epoch 10/10\n",
            "8/8 [==============================] - 18s 2s/step - loss: -1274532992.0000 - acc: 0.4453 - val_loss: -1936645248.0000 - val_acc: 0.4375\n"
          ],
          "name": "stdout"
        },
        {
          "output_type": "execute_result",
          "data": {
            "text/plain": [
              "<keras.callbacks.History at 0x7f70ee6432d0>"
            ]
          },
          "metadata": {},
          "execution_count": 30
        }
      ]
    }
  ]
}